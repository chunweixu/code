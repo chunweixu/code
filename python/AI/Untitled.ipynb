{
 "cells": [
  {
   "cell_type": "code",
   "execution_count": 19,
   "metadata": {
    "collapsed": false
   },
   "outputs": [
    {
     "name": "stdout",
     "output_type": "stream",
     "text": [
      "[[0, 6, 0, 5, 9, 3, 0, 0, 0], [9, 0, 1, 0, 0, 0, 5, 0, 0], [0, 3, 0, 4, 0, 0, 0, 9, 0], [1, 0, 8, 0, 2, 0, 0, 0, 4], [4, 0, 0, 3, 0, 9, 0, 0, 1], [2, 0, 0, 0, 1, 0, 6, 0, 9], [0, 8, 0, 0, 0, 6, 0, 2, 0], [0, 0, 4, 0, 0, 0, 8, 0, 7], [0, 0, 0, 7, 8, 5, 0, 1, 0]]\n",
      "True\n"
     ]
    }
   ],
   "source": [
    "with open('test1.txt', 'r') as f:\n",
    "        matrix = []\n",
    "        for i in range(9):\n",
    "            line = f.readline()\n",
    "            \n",
    "            ch_list = list(line)\n",
    "            ch_list = [int(ch_list[i]) for i in range(9)]\n",
    "            matrix.append(ch_list)\n",
    "print matrix\n",
    "\n",
    "def check(row_index, col, number, matrix):\n",
    "    for i in range(9):\n",
    "        if(matrix[row_index][i] == number | matrix[i][col] == number):\n",
    "            return False\n",
    "        \n",
    "    temprow = row_index/3\n",
    "    tempcol = col/3\n",
    "    for i in range(3):\n",
    "        for j in range(3):\n",
    "            if (matrix[temprow*3 + i][tempcol*3 + j] == number):\n",
    "                return False\n",
    "            \n",
    "    return True\n",
    "\n",
    "print check(0, 1, 2, matrix)"
   ]
  },
  {
   "cell_type": "code",
   "execution_count": 27,
   "metadata": {
    "collapsed": false
   },
   "outputs": [
    {
     "name": "stdout",
     "output_type": "stream",
     "text": [
      "ok\n"
     ]
    }
   ],
   "source": [
    "i = 8\n",
    "j = 9\n",
    "def test():\n",
    "\n",
    "    if True:\n",
    "        print 'ok'\n",
    "        return\n",
    "\n",
    "    print 'wa wo'\n",
    "    \n",
    "test()"
   ]
  },
  {
   "cell_type": "code",
   "execution_count": null,
   "metadata": {
    "collapsed": true
   },
   "outputs": [],
   "source": []
  }
 ],
 "metadata": {
  "anaconda-cloud": {},
  "kernelspec": {
   "display_name": "Python [Root]",
   "language": "python",
   "name": "Python [Root]"
  },
  "language_info": {
   "codemirror_mode": {
    "name": "ipython",
    "version": 2
   },
   "file_extension": ".py",
   "mimetype": "text/x-python",
   "name": "python",
   "nbconvert_exporter": "python",
   "pygments_lexer": "ipython2",
   "version": "2.7.12"
  }
 },
 "nbformat": 4,
 "nbformat_minor": 0
}
